{
  "nbformat": 4,
  "nbformat_minor": 0,
  "metadata": {
    "colab": {
      "name": "[CNN]Week_3-Transfer_Learning.ipynb",
      "provenance": [],
      "authorship_tag": "ABX9TyMhZ9Oawdh7cnj/Yv+vG5sl",
      "include_colab_link": true
    },
    "kernelspec": {
      "name": "python3",
      "display_name": "Python 3"
    },
    "accelerator": "GPU"
  },
  "cells": [
    {
      "cell_type": "markdown",
      "metadata": {
        "id": "view-in-github",
        "colab_type": "text"
      },
      "source": [
        "<a href=\"https://colab.research.google.com/github/ainurafifah00/Coursera_TF/blob/master/%5BCNN%5DWeek_3_Transfer_Learning.ipynb\" target=\"_parent\"><img src=\"https://colab.research.google.com/assets/colab-badge.svg\" alt=\"Open In Colab\"/></a>"
      ]
    },
    {
      "cell_type": "code",
      "metadata": {
        "id": "Tbrzz-CPZDQO",
        "colab_type": "code",
        "outputId": "30cf74c1-8e0e-4eb1-acf7-57ae126c9354",
        "colab": {
          "base_uri": "https://localhost:8080/",
          "height": 338
        }
      },
      "source": [
        "import os\n",
        "\n",
        "from tensorflow.keras import layers\n",
        "from tensorflow.keras import Model\n",
        "!wget --no-check-certificate \\\n",
        "    https://storage.googleapis.com/mledu-datasets/inception_v3_weights_tf_dim_ordering_tf_kernels_notop.h5 \\\n",
        "    -O /tmp/inception_v3_weights_tf_dim_ordering_tf_kernels_notop.h5\n",
        "  \n",
        "from tensorflow.keras.applications.inception_v3 import InceptionV3\n",
        "\n",
        "local_weights_file = '/tmp/inception_v3_weights_tf_dim_ordering_tf_kernels_notop.h5'\n",
        "\n",
        "pre_trained_model = InceptionV3(input_shape = (150, 150, 3), \n",
        "                                include_top = False, \n",
        "                                weights = None)\n",
        "\n",
        "pre_trained_model.load_weights(local_weights_file)\n",
        "\n",
        "for layer in pre_trained_model.layers:\n",
        "  layer.trainable = False\n",
        "  \n",
        "# pre_trained_model.summary()\n",
        "\n",
        "last_layer = pre_trained_model.get_layer('mixed7')\n",
        "print('last layer output shape: ', last_layer.output_shape)\n",
        "last_output = last_layer.output"
      ],
      "execution_count": 1,
      "outputs": [
        {
          "output_type": "display_data",
          "data": {
            "text/html": [
              "<p style=\"color: red;\">\n",
              "The default version of TensorFlow in Colab will soon switch to TensorFlow 2.x.<br>\n",
              "We recommend you <a href=\"https://www.tensorflow.org/guide/migrate\" target=\"_blank\">upgrade</a> now \n",
              "or ensure your notebook will continue to use TensorFlow 1.x via the <code>%tensorflow_version 1.x</code> magic:\n",
              "<a href=\"https://colab.research.google.com/notebooks/tensorflow_version.ipynb\" target=\"_blank\">more info</a>.</p>\n"
            ],
            "text/plain": [
              "<IPython.core.display.HTML object>"
            ]
          },
          "metadata": {
            "tags": []
          }
        },
        {
          "output_type": "stream",
          "text": [
            "--2020-02-10 03:11:42--  https://storage.googleapis.com/mledu-datasets/inception_v3_weights_tf_dim_ordering_tf_kernels_notop.h5\n",
            "Resolving storage.googleapis.com (storage.googleapis.com)... 173.194.76.128, 2a00:1450:400c:c0a::80\n",
            "Connecting to storage.googleapis.com (storage.googleapis.com)|173.194.76.128|:443... connected.\n",
            "HTTP request sent, awaiting response... 200 OK\n",
            "Length: 87910968 (84M) [application/x-hdf]\n",
            "Saving to: ‘/tmp/inception_v3_weights_tf_dim_ordering_tf_kernels_notop.h5’\n",
            "\n",
            "\r          /tmp/ince   0%[                    ]       0  --.-KB/s               \r         /tmp/incep  38%[======>             ]  32.01M   144MB/s               \r/tmp/inception_v3_w 100%[===================>]  83.84M   213MB/s    in 0.4s    \n",
            "\n",
            "2020-02-10 03:11:43 (213 MB/s) - ‘/tmp/inception_v3_weights_tf_dim_ordering_tf_kernels_notop.h5’ saved [87910968/87910968]\n",
            "\n",
            "WARNING:tensorflow:From /usr/local/lib/python3.6/dist-packages/tensorflow_core/python/ops/resource_variable_ops.py:1630: calling BaseResourceVariable.__init__ (from tensorflow.python.ops.resource_variable_ops) with constraint is deprecated and will be removed in a future version.\n",
            "Instructions for updating:\n",
            "If using Keras pass *_constraint arguments to layers.\n",
            "last layer output shape:  (None, 7, 7, 768)\n"
          ],
          "name": "stdout"
        }
      ]
    },
    {
      "cell_type": "code",
      "metadata": {
        "id": "BBQXpUvIZLBi",
        "colab_type": "code",
        "outputId": "229bc9de-c63d-41d1-dfbd-8e61e488ce4b",
        "colab": {
          "base_uri": "https://localhost:8080/",
          "height": 88
        }
      },
      "source": [
        "from tensorflow.keras.optimizers import RMSprop\n",
        "\n",
        "# Flatten the output layer to 1 dimension\n",
        "x = layers.Flatten()(last_output)\n",
        "# Add a fully connected layer with 1,024 hidden units and ReLU activation\n",
        "x = layers.Dense(1024, activation='relu')(x)\n",
        "# Add a dropout rate of 0.2\n",
        "x = layers.Dropout(0.2)(x)                  \n",
        "# Add a final sigmoid layer for classification\n",
        "x = layers.Dense  (1, activation='sigmoid')(x)           \n",
        "\n",
        "model = Model( pre_trained_model.input, x) \n",
        "\n",
        "model.compile(optimizer = RMSprop(lr=0.0001), \n",
        "              loss = 'binary_crossentropy', \n",
        "              metrics = ['acc'])\n"
      ],
      "execution_count": 2,
      "outputs": [
        {
          "output_type": "stream",
          "text": [
            "WARNING:tensorflow:From /usr/local/lib/python3.6/dist-packages/tensorflow_core/python/ops/nn_impl.py:183: where (from tensorflow.python.ops.array_ops) is deprecated and will be removed in a future version.\n",
            "Instructions for updating:\n",
            "Use tf.where in 2.0, which has the same broadcast rule as np.where\n"
          ],
          "name": "stdout"
        }
      ]
    },
    {
      "cell_type": "code",
      "metadata": {
        "id": "a9xx3yRvZR0y",
        "colab_type": "code",
        "outputId": "3119c0bf-bf6d-4fcd-d25d-408a47406be6",
        "colab": {
          "base_uri": "https://localhost:8080/",
          "height": 238
        }
      },
      "source": [
        "!wget --no-check-certificate \\\n",
        "        https://storage.googleapis.com/mledu-datasets/cats_and_dogs_filtered.zip \\\n",
        "       -O /tmp/cats_and_dogs_filtered.zip\n",
        "\n",
        "from tensorflow.keras.preprocessing.image import ImageDataGenerator\n",
        "\n",
        "import os\n",
        "import zipfile\n",
        "\n",
        "local_zip = '//tmp/cats_and_dogs_filtered.zip'\n",
        "\n",
        "zip_ref = zipfile.ZipFile(local_zip, 'r')\n",
        "\n",
        "zip_ref.extractall('/tmp')\n",
        "zip_ref.close()\n",
        "\n",
        "# Define our example directories and files\n",
        "base_dir = '/tmp/cats_and_dogs_filtered'\n",
        "\n",
        "train_dir = os.path.join( base_dir, 'train')\n",
        "validation_dir = os.path.join( base_dir, 'validation')\n",
        "\n",
        "\n",
        "train_cats_dir = os.path.join(train_dir, 'cats') # Directory with our training cat pictures\n",
        "train_dogs_dir = os.path.join(train_dir, 'dogs') # Directory with our training dog pictures\n",
        "validation_cats_dir = os.path.join(validation_dir, 'cats') # Directory with our validation cat pictures\n",
        "validation_dogs_dir = os.path.join(validation_dir, 'dogs')# Directory with our validation dog pictures\n",
        "\n",
        "train_cat_fnames = os.listdir(train_cats_dir)\n",
        "train_dog_fnames = os.listdir(train_dogs_dir)\n",
        "\n",
        "# Add our data-augmentation parameters to ImageDataGenerator\n",
        "train_datagen = ImageDataGenerator(rescale = 1./255.,\n",
        "                                   rotation_range = 40,\n",
        "                                   width_shift_range = 0.2,\n",
        "                                   height_shift_range = 0.2,\n",
        "                                   shear_range = 0.2,\n",
        "                                   zoom_range = 0.2,\n",
        "                                   horizontal_flip = True)\n",
        "\n",
        "# Note that the validation data should not be augmented!\n",
        "test_datagen = ImageDataGenerator( rescale = 1.0/255. )\n",
        "\n",
        "# Flow training images in batches of 20 using train_datagen generator\n",
        "train_generator = train_datagen.flow_from_directory(train_dir,\n",
        "                                                    batch_size = 20,\n",
        "                                                    class_mode = 'binary', \n",
        "                                                    target_size = (150, 150))     \n",
        "\n",
        "# Flow validation images in batches of 20 using test_datagen generator\n",
        "validation_generator =  test_datagen.flow_from_directory( validation_dir,\n",
        "                                                          batch_size  = 20,\n",
        "                                                          class_mode  = 'binary', \n",
        "                                                          target_size = (150, 150))"
      ],
      "execution_count": 3,
      "outputs": [
        {
          "output_type": "stream",
          "text": [
            "--2020-02-10 03:11:55--  https://storage.googleapis.com/mledu-datasets/cats_and_dogs_filtered.zip\n",
            "Resolving storage.googleapis.com (storage.googleapis.com)... 64.233.167.128, 2a00:1450:400c:c00::80\n",
            "Connecting to storage.googleapis.com (storage.googleapis.com)|64.233.167.128|:443... connected.\n",
            "HTTP request sent, awaiting response... 200 OK\n",
            "Length: 68606236 (65M) [application/zip]\n",
            "Saving to: ‘/tmp/cats_and_dogs_filtered.zip’\n",
            "\n",
            "\r          /tmp/cats   0%[                    ]       0  --.-KB/s               \r         /tmp/cats_  61%[===========>        ]  39.96M   200MB/s               \r/tmp/cats_and_dogs_ 100%[===================>]  65.43M   230MB/s    in 0.3s    \n",
            "\n",
            "2020-02-10 03:11:56 (230 MB/s) - ‘/tmp/cats_and_dogs_filtered.zip’ saved [68606236/68606236]\n",
            "\n",
            "Found 2000 images belonging to 2 classes.\n",
            "Found 1000 images belonging to 2 classes.\n"
          ],
          "name": "stdout"
        }
      ]
    },
    {
      "cell_type": "code",
      "metadata": {
        "id": "mN3s5XqJZTbt",
        "colab_type": "code",
        "outputId": "704dc36c-000c-4b2d-b641-695b1f3b377d",
        "colab": {
          "base_uri": "https://localhost:8080/",
          "height": 1000
        }
      },
      "source": [
        "history = model.fit_generator(\n",
        "            train_generator,\n",
        "            validation_data = validation_generator,\n",
        "            steps_per_epoch = 100,\n",
        "            epochs = 20,\n",
        "            validation_steps = 50,\n",
        "            verbose = 2)"
      ],
      "execution_count": 4,
      "outputs": [
        {
          "output_type": "stream",
          "text": [
            "Epoch 1/20\n",
            "Epoch 1/20\n",
            "100/100 - 25s - loss: 0.4903 - acc: 0.7745 - val_loss: 0.2951 - val_acc: 0.9150\n",
            "Epoch 2/20\n",
            "Epoch 1/20\n",
            "100/100 - 19s - loss: 0.3738 - acc: 0.8350 - val_loss: 0.2138 - val_acc: 0.9520\n",
            "Epoch 3/20\n",
            "Epoch 1/20\n",
            "100/100 - 19s - loss: 0.3596 - acc: 0.8370 - val_loss: 0.2011 - val_acc: 0.9600\n",
            "Epoch 4/20\n",
            "Epoch 1/20\n",
            "100/100 - 19s - loss: 0.3129 - acc: 0.8650 - val_loss: 0.5357 - val_acc: 0.9100\n",
            "Epoch 5/20\n",
            "Epoch 1/20\n",
            "100/100 - 19s - loss: 0.3371 - acc: 0.8550 - val_loss: 0.2513 - val_acc: 0.9610\n",
            "Epoch 6/20\n",
            "Epoch 1/20\n",
            "100/100 - 19s - loss: 0.3043 - acc: 0.8720 - val_loss: 0.5830 - val_acc: 0.9150\n",
            "Epoch 7/20\n",
            "Epoch 1/20\n",
            "100/100 - 19s - loss: 0.3194 - acc: 0.8665 - val_loss: 0.3191 - val_acc: 0.9520\n",
            "Epoch 8/20\n",
            "Epoch 1/20\n",
            "100/100 - 19s - loss: 0.2853 - acc: 0.8795 - val_loss: 0.3888 - val_acc: 0.9450\n",
            "Epoch 9/20\n",
            "Epoch 1/20\n",
            "100/100 - 19s - loss: 0.3019 - acc: 0.8830 - val_loss: 0.2832 - val_acc: 0.9580\n",
            "Epoch 10/20\n",
            "Epoch 1/20\n",
            "100/100 - 19s - loss: 0.2900 - acc: 0.8870 - val_loss: 0.2990 - val_acc: 0.9640\n",
            "Epoch 11/20\n",
            "Epoch 1/20\n",
            "100/100 - 19s - loss: 0.2798 - acc: 0.8960 - val_loss: 0.4805 - val_acc: 0.9420\n",
            "Epoch 12/20\n",
            "Epoch 1/20\n",
            "100/100 - 19s - loss: 0.2986 - acc: 0.8735 - val_loss: 0.4664 - val_acc: 0.9460\n",
            "Epoch 13/20\n",
            "Epoch 1/20\n",
            "100/100 - 19s - loss: 0.2724 - acc: 0.8970 - val_loss: 0.4593 - val_acc: 0.9500\n",
            "Epoch 14/20\n",
            "Epoch 1/20\n",
            "100/100 - 19s - loss: 0.2703 - acc: 0.8815 - val_loss: 0.3062 - val_acc: 0.9600\n",
            "Epoch 15/20\n",
            "Epoch 1/20\n",
            "100/100 - 19s - loss: 0.2851 - acc: 0.8875 - val_loss: 0.5416 - val_acc: 0.9440\n",
            "Epoch 16/20\n",
            "Epoch 1/20\n",
            "100/100 - 19s - loss: 0.2841 - acc: 0.8870 - val_loss: 0.3262 - val_acc: 0.9580\n",
            "Epoch 17/20\n",
            "Epoch 1/20\n",
            "100/100 - 19s - loss: 0.2470 - acc: 0.9065 - val_loss: 0.5827 - val_acc: 0.9370\n",
            "Epoch 18/20\n",
            "Epoch 1/20\n",
            "100/100 - 19s - loss: 0.2477 - acc: 0.8985 - val_loss: 0.3394 - val_acc: 0.9620\n",
            "Epoch 19/20\n",
            "Epoch 1/20\n",
            "100/100 - 19s - loss: 0.2403 - acc: 0.9105 - val_loss: 0.7419 - val_acc: 0.9360\n",
            "Epoch 20/20\n",
            "Epoch 1/20\n",
            "100/100 - 19s - loss: 0.2528 - acc: 0.9050 - val_loss: 0.4479 - val_acc: 0.9520\n"
          ],
          "name": "stdout"
        }
      ]
    },
    {
      "cell_type": "code",
      "metadata": {
        "id": "Ekv41f5IZWb5",
        "colab_type": "code",
        "outputId": "cacb2750-cbc4-403e-9caf-ad491c9c5e28",
        "colab": {
          "base_uri": "https://localhost:8080/",
          "height": 298
        }
      },
      "source": [
        "import matplotlib.pyplot as plt\n",
        "acc = history.history['acc']\n",
        "val_acc = history.history['val_acc']\n",
        "loss = history.history['loss']\n",
        "val_loss = history.history['val_loss']\n",
        "\n",
        "epochs = range(len(acc))\n",
        "\n",
        "plt.plot(epochs, acc, 'r', label='Training accuracy')\n",
        "plt.plot(epochs, val_acc, 'b', label='Validation accuracy')\n",
        "plt.title('Training and validation accuracy')\n",
        "plt.legend(loc=0)\n",
        "plt.figure()\n",
        "\n",
        "\n",
        "plt.show()"
      ],
      "execution_count": 5,
      "outputs": [
        {
          "output_type": "display_data",
          "data": {
            "image/png": "[encoded data removed]",
            "text/plain": [
              "<Figure size 432x288 with 1 Axes>"
            ]
          },
          "metadata": {
            "tags": []
          }
        },
        {
          "output_type": "display_data",
          "data": {
            "text/plain": [
              "<Figure size 432x288 with 0 Axes>"
            ]
          },
          "metadata": {
            "tags": []
          }
        }
      ]
    }
  ]
}